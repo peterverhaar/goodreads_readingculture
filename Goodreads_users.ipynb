{
 "cells": [
  {
   "cell_type": "markdown",
   "id": "2aa4902e",
   "metadata": {},
   "source": [
    "## Goodreads users"
   ]
  },
  {
   "cell_type": "code",
   "execution_count": null,
   "id": "f57cdf8f",
   "metadata": {},
   "outputs": [],
   "source": [
    "import requests\n",
    "import re\n",
    "import os\n",
    "from os.path import join\n",
    "import xml.etree.ElementTree as ET\n",
    "from bs4 import BeautifulSoup\n",
    "import random\n",
    "import time\n",
    "import credentials\n",
    "key = credentials.key"
   ]
  },
  {
   "cell_type": "markdown",
   "id": "28fede30",
   "metadata": {},
   "source": [
    "This notebook contains code to identify Goodreads users from two specific countries: Greece and The Netherlands. As a first step, we selected the ISBNs of books written by Dutch and Greek authors. This decision is based on the assumption that there is a degree of overlap between the nationality of the author and the nationalities of the readers.    "
   ]
  },
  {
   "cell_type": "code",
   "execution_count": 18,
   "id": "f9f9dc7e",
   "metadata": {},
   "outputs": [
    {
     "name": "stdout",
     "output_type": "stream",
     "text": [
      "In the Dutch Mountains by Cees Nooteboom (isbn: 9780156004022)\n",
      "De avonden / druk 48 by Gerard Kornelis Reve (isbn: 9789023462439)\n",
      "The Assault by Harry Mulisch (isbn: 9780394542454)\n",
      "The Discovery of Heaven by Harry Mulisch (isbn: 9780670856688)\n",
      "Bezonken rood / druk 40 by Jeroen Godfried Marie Brouwers (isbn: 9789025445010)\n",
      "La Hierba Amarga by Marga Minco (isbn: 9788493544843)\n",
      "The Laws by Connie Palmen (isbn: 9780807613290)\n",
      "Nader tot u by Gerard Reve (isbn: 9789020425048)\n",
      "Ein Schwarm Regenbrachvögel by Maarten 't Hart (isbn: 9783492232739)\n",
      "Nooit meer slapen by Willem Frederik Hermans (isbn: 9780868740348)\n",
      "Die Dunkelkammer des Damokles by Willem Frederik Hermans (isbn: 9783746619408)\n",
      "Blue Mondays by Arnon Grunberg, Arnold Pomerans, Erica Pomerans (isbn: 9780374114855)\n",
      "Het leven is vurrukkulluk / druk 28 by Remco Wouter Campert (isbn: 9789023422082)\n",
      "The Vanishing by Tim Krabbé (isbn: 9780679419730)\n",
      "Max Havelaar by Multatuli (isbn: 9783843076685)\n"
     ]
    }
   ],
   "source": [
    "dutch_isbns = [\n",
    "    '9780156004022',\n",
    "    '9789023462439',\n",
    "    '9780394542454',\n",
    "    '9780670856688',\n",
    "    '9789025445010',\n",
    "    '9788493544843',\n",
    "    '9780807613290',\n",
    "    '9789020425048',\n",
    "    '9783492232739',\n",
    "    '9780868740348',\n",
    "    '9783746619408',\n",
    "    '9780374114855',\n",
    "    '9789023422082',\n",
    "    '9780679419730',\n",
    "    '9783843076685'\n",
    "         ]\n",
    "\n",
    "for isbn in dutch_isbns:\n",
    "    url = 'https://www.googleapis.com/books/v1/volumes?q=isbn:'+isbn\n",
    "    response = requests.get(url)\n",
    "    json_data = response.json()\n",
    "    title = json_data['items'][0]['volumeInfo']['title']\n",
    "    authors = json_data['items'][0]['volumeInfo']['authors']\n",
    "    print(f\"{title} by {', '.join(authors)} (isbn: {isbn})\")\n"
   ]
  },
  {
   "cell_type": "markdown",
   "id": "f3c0e7c8",
   "metadata": {},
   "source": [
    "The cell below contains ISBNs of books written by Greek authors. The selection is partly based on the following goodReads list: \n",
    "\n",
    "* [Authors from Greece and Cyprus](https://www.goodreads.com/list/show/18791.Books_by_Goodreads_Authors_from_Greece_and_Cyprus)"
   ]
  },
  {
   "cell_type": "code",
   "execution_count": 19,
   "id": "1e1d6660",
   "metadata": {},
   "outputs": [
    {
     "name": "stdout",
     "output_type": "stream",
     "text": [
      "The Murderess by Alexandros Papadiamantis (isbn: 9781590173503)\n",
      "Το Καπλάνι τής βιτρίνας by Alki Zei, Alkē Zeē (isbn: 9789600400076)\n",
      "Marginus Morius by Stelios Chalkitis (isbn: 9781843869931)\n",
      "A Life in a Moment by Stefanos Livos (isbn: 9781479314935)\n",
      "Spellbound in His Arms by Angel Sefer (isbn: 9781620152157)\n",
      "Three Summers by Margarita Liberaki (isbn: 9781681373300)\n",
      "M. Karagatsē Ho kitrinos phakelos by M. Karagatsēs (isbn: 9789600500578)\n",
      "Живот в гроба : Книга за войната by Stratēs Myribēlēs (isbn: 9789600501490)\n",
      "I megali chimaira by M. Karagatsis (isbn: 9600510121)\n",
      "Uncle Petros and Goldbach's Conjecture by Apostolos Doxiadis (isbn: 9781582341286)\n",
      "Eat, Drink and be Married by Eve Makis (isbn: 9780552772990)\n",
      "The Last Temptation of Christ by Nikos Kazantzakis (isbn: 9780684852560)\n",
      "Thirty-Eight Days of Rain by Eva Asprakis (isbn: 9781399976930)\n",
      "Ζητειται ελπις by Αντώνης Σαμαράκης (isbn: 9789600310511)\n",
      "Η μητερα του σκυλου by Παυλος Ματεσις (isbn: 9789600304824)\n",
      "Zorba the Greek by Nikos Kazantzakis (isbn: 9780571203130)\n",
      "The Third Wedding by Kōstas Tachtsēs (isbn: 9780873760485)\n",
      "Η Νεκρή Συγγραφέας by Núria Añó (isbn: 9781071526521)\n",
      "Το τελος της μικρης μας πολις by Δημητρης Χατζης (isbn: 9789607360496)\n",
      "The Heiress of Santorini by Angel Sefer (isbn: 9781620155011)\n",
      "Hē mov omprela by Alkē Zeē (isbn: 9789600410389)\n",
      "To Noumero 31328 : to biblio tēs sklabias. Το Νούμερο 31328 : το βιβλίο της σκλαβιάς by Ēlias Venezēs (isbn: 9600500703)\n",
      "Report to Greco by Nikos Kazantzakis (isbn: 9780671220273)\n"
     ]
    }
   ],
   "source": [
    "greek_isbns = ['9781590173503', '9789600400076' ,\n",
    "               '9781843869931', '9781479314935', \n",
    "               '9781620152157', '9781681373300', \n",
    "               '9789600500578', '9780671492601'\n",
    "               '9602936797', '9789600501490', \n",
    "               '9600510121', '9781582341286', \n",
    "               '9780552772990', '9780684852560', \n",
    "               '9781399976930', '9789600310511',\n",
    "               '9789600304824', '9780571203130', \n",
    "               '9780873760485', '9781071526521', \n",
    "               '9789607360496', '9781620155011', \n",
    "               '9789600410389', '9600500703', \n",
    "               '9780671220273']\n",
    "\n",
    "\n",
    "for isbn in greek_isbns:\n",
    "\n",
    "    url = 'https://www.googleapis.com/books/v1/volumes?q=isbn:'+isbn\n",
    "    response = requests.get(url)\n",
    "    json_data = response.json()\n",
    "    if 'items' in json_data:\n",
    "        title = json_data['items'][0]['volumeInfo']['title']\n",
    "        authors = json_data['items'][0]['volumeInfo']['authors']\n",
    "        print(f\"{title} by {', '.join(authors)} (isbn: {isbn})\")\n",
    "\n"
   ]
  },
  {
   "cell_type": "markdown",
   "id": "f370f6d2",
   "metadata": {},
   "source": [
    "As a second step, the reviews of all the selected books are downloaded. Note that the Goodreads API demands a developer key, which is not included in this public notebook. "
   ]
  },
  {
   "cell_type": "code",
   "execution_count": null,
   "id": "dbfd4f6f",
   "metadata": {},
   "outputs": [],
   "source": [
    "\n",
    "## Functions to facilitate webscraping\n",
    "def tag_visible(element):\n",
    "    if element.parent.name in ['style', 'script', 'head', 'title', 'meta', '[document]']:\n",
    "        return False\n",
    "    else:\n",
    "        return True\n",
    "\n",
    "user_agents = [\n",
    "    'Mozilla/5.0 (Windows NT 10.0; Win64; x64) AppleWebKit/537.36 (KHTML, like Gecko) Chrome/109.0.0.0 Safari/537.36',\n",
    "    'Mozilla/5.0 (Macintosh; Intel Mac OS X 10_15_7) AppleWebKit/537.36 (KHTML, like Gecko) Chrome/109.0.0.0 Safari/537.36',\n",
    "    'Mozilla/5.0 (Windows NT 10.0; Win64; x64) AppleWebKit/537.36 (KHTML, like Gecko) Chrome/108.0.0.0 Safari/537.36',\n",
    "    'Mozilla/5.0 (Macintosh; Intel Mac OS X 10_15_7) AppleWebKit/537.36 (KHTML, like Gecko) Chrome/108.0.0.0 Safari/537.36',\n",
    "    'Mozilla/5.0 (X11; Linux x86_64) AppleWebKit/537.36 (KHTML, like Gecko) Chrome/108.0.0.0 Safari/537.36',\n",
    "    'Mozilla/5.0 (Macintosh; Intel Mac OS X 10_15_7) AppleWebKit/605.1.15 (KHTML, like Gecko) Version/16.1 Safari/605.1.15',\n",
    "    'Mozilla/5.0 (Macintosh; Intel Mac OS X 13_1) AppleWebKit/605.1.15 (KHTML, like Gecko) Version/16.1 Safari/605.1.15'\n",
    "]\n",
    "\n",
    "def select_agent():\n",
    "    n=random.randint(0,len(user_agents)-1)\n",
    "    return user_agents[n]"
   ]
  },
  {
   "cell_type": "code",
   "execution_count": null,
   "id": "55cd388e",
   "metadata": {},
   "outputs": [],
   "source": [
    "dir = 'Reviews'\n",
    "\n",
    "\n",
    "baseUrl = 'https://www.goodreads.com/book/isbn/'\n",
    "\n",
    "\n",
    "def get_reviews(isbn):\n",
    "    \n",
    "    time.sleep(3)\n",
    "\n",
    "    apiCall = '{}{}?key={}'.format(baseUrl,isbn,key )\n",
    "\n",
    "    print(apiCall)\n",
    "\n",
    "    headers = {'User-Agent': select_agent() }\n",
    "    response = requests.get( apiCall, headers=headers)\n",
    "    print(response.status_code)\n",
    "    \n",
    "    ## Save data about ISBN\n",
    "    with open(os.path.join('Data',f'{isbn}.xml'),'w',encoding='utf-8') as outhtml:\n",
    "        outhtml.write(response.text)\n",
    "        \n",
    "    ## Find reviews\n",
    "    root = ET.fromstring(response.text)\n",
    "    title = root.find( 'book/title' ).text\n",
    "    reviewsWidget = root.find( 'book/reviews_widget' ).text\n",
    "\n",
    "    soup = BeautifulSoup( reviewsWidget ,\"lxml\")\n",
    "    links = soup.find_all(\"iframe\")\n",
    "    out = open( os.path.join( 'Reviews', f'reviews_{ isbn }.txt') , 'w' )\n",
    "    pages_left = True\n",
    "\n",
    "    for l in links:\n",
    "        url = l.get(\"src\")\n",
    "        \n",
    "        i = 1\n",
    "        while pages_left == True:\n",
    "            if re.search( r'[&]page' , url,re.IGNORECASE):\n",
    "                url = url[:url.index('&page')]\n",
    "            url += '&page=' + str(i)\n",
    "            print(f\" {url}\")\n",
    "            \n",
    "            headers = {'User-Agent': select_agent() }\n",
    "            \n",
    "            response = requests.get( url , headers=headers)\n",
    "            print(response.status_code)\n",
    "            if response:\n",
    "                response.encoding = 'utf-8'\n",
    "                soup = BeautifulSoup( response.text ,\"lxml\")\n",
    "                #print(soup.prettify)\n",
    "   \n",
    "                texts = soup.findAll(text=True)\n",
    "                visible_texts = filter(tag_visible, texts)  \n",
    "                full_text = u\" \".join(t.strip() for t in visible_texts)\n",
    "                if re.search(r'No\\s+reviews\\sfound',full_text,re.IGNORECASE):\n",
    "                    pages_left = False\n",
    "                else:\n",
    "                    i+=1\n",
    "                    with open(os.path.join( dir, f'reviews_{i}_html_{ isbn }.html'),'w',encoding='utf-8') as out:\n",
    "                        out.write(str(soup.prettify()))\n",
    "                        \n",
    "    out.close()\n"
   ]
  },
  {
   "cell_type": "code",
   "execution_count": null,
   "id": "05fc4f01",
   "metadata": {},
   "outputs": [],
   "source": [
    "for isbn in dutch_isbns:\n",
    "    try:\n",
    "        get_reviews(isbn)\n",
    "    except:\n",
    "        print(f'Problem with ISBN {isbn}')\n",
    "        \n",
    "for isbn in dutch_isbns:\n",
    "    try:\n",
    "        get_reviews(isbn)\n",
    "    except:\n",
    "        print(f'Problem with ISBN {isbn}')"
   ]
  },
  {
   "cell_type": "markdown",
   "id": "463e92b3",
   "metadata": {},
   "source": [
    "The cell below identifies the IDs of all the users who have written reviews of the books by the Greek and Dutch authors. "
   ]
  },
  {
   "cell_type": "code",
   "execution_count": null,
   "id": "1843f1ba",
   "metadata": {},
   "outputs": [],
   "source": [
    "dir = 'Reviews'\n",
    "users = []\n",
    "\n",
    "reviews = os.listdir(dir)\n",
    "reviews = [review for review in reviews if re.search('html$', review)]\n",
    "\n",
    "for review in reviews:\n",
    "    time.sleep(3)\n",
    "    out = open(review,'w',encoding='utf-8')\n",
    "    print(review)\n",
    "\n",
    "    path = os.path.join(dir,review)\n",
    "\n",
    "    file = open(path,encoding='utf-8')\n",
    "    html_page = file.read()\n",
    "\n",
    "    soup = BeautifulSoup(html_page,\"lxml\")\n",
    "    reviewLinks = soup.find_all(\"link\")\n",
    "    \n",
    "    for r in reviewLinks:\n",
    "        #print(r)\n",
    "        reviewUrl = r.get(\"href\")\n",
    "\n",
    "        if re.search( r'goodreads.*[/]review[/]show' , reviewUrl ):\n",
    "            print(reviewUrl)\n",
    "\n",
    "            headers = {'User-Agent': select_agent() }\n",
    "            response = requests.get(reviewUrl,headers=headers)\n",
    "            if response:\n",
    "                response.encoding = 'utf-8'\n",
    "                soup = BeautifulSoup( response.text ,\"lxml\")\n",
    "                review = soup.find( 'div' , itemprop='reviewBody' )\n",
    "                full_text = re.sub( '\\.' , '. ' , str(review.text) )\n",
    "                full_text = re.sub( '!' , '! ' , str(full_text) )\n",
    "                full_text = re.sub( '\\s+' , ' ' , str(full_text) )\n",
    "                out.write(full_text)\n",
    "                \n",
    "                user = soup.find( 'a' , {'class':'userReview'} )\n",
    "                user_link = user.get('href')\n",
    "                users.append(user_link)\n",
    "                \n",
    "    out.close()"
   ]
  },
  {
   "cell_type": "markdown",
   "id": "1c00d765",
   "metadata": {},
   "source": [
    "As next step, we request all the information about these users user the API available via [https://www.goodreads.com/user/show/](https://www.goodreads.com/user/show/)."
   ]
  },
  {
   "cell_type": "code",
   "execution_count": null,
   "id": "b437eadc",
   "metadata": {},
   "outputs": [],
   "source": [
    "for u in users:\n",
    "    u = os.path.basename(u)\n",
    "    if re.search(r'[-]',u):\n",
    "        u = u[:u.index('-')]\n",
    "    print(u)\n",
    "    url = f'https://www.goodreads.com/user/show/{u}.xml?key={key}'\n",
    "    headers = {'User-Agent': select_agent() }\n",
    "    response = requests.get(url,headers=headers)\n",
    "    print(url)\n",
    "    print(response.status_code)\n",
    "    if response:\n",
    "        response.encoding = 'utf-8'\n",
    "        with open(f'Users/{u}.xml','w',encoding='utf-8') as out:\n",
    "            out.write(response.text)\n",
    "            "
   ]
  },
  {
   "cell_type": "markdown",
   "id": "5012f2c5",
   "metadata": {},
   "source": [
    "As a final step, we select the users who have specified in the &lt;location&gt; field that they reside either in Greece or in the Netherlands."
   ]
  },
  {
   "cell_type": "code",
   "execution_count": null,
   "id": "6b82365f",
   "metadata": {},
   "outputs": [],
   "source": [
    "greek_users = []\n",
    "dutch_users = []\n",
    "\n",
    "dir = 'Users'\n",
    "\n",
    "users = os.listdir(dir)\n",
    "users = [user for user in users if re.search('xml$', user)]\n",
    "\n",
    "for user_xml in users:\n",
    "    xml = open(join(dir,user_xml),encoding='utf-8').read()\n",
    "    soup = BeautifulSoup( xml ,\"lxml\")\n",
    "    user_id = soup.find(\"id\").text.strip()\n",
    "    name = soup.find(\"name\").text.strip()\n",
    "    print(user_id)\n",
    "    loc = soup.find(\"location\").text.strip()\n",
    "    if re.search(r'\\w+' ,loc):\n",
    "        print(loc)\n",
    "        if re.search(r'gree[ck]',loc,re.IGNORECASE):\n",
    "            greek_users.append( [user_id,name,loc] )\n",
    "\n",
    "        elif re.search(r'nether',loc,re.IGNORECASE):\n",
    "            dutch_users.append( [user_id,name,loc] )\n",
    "    "
   ]
  },
  {
   "cell_type": "markdown",
   "id": "371f7259",
   "metadata": {},
   "source": [
    "Using the method implemented in this notebook, we were able top identify 377 Greek goodReads users and 345 Dutch goodReads users. The IDS and the names of these users are saved in files named \"dutch_users.txt\" and \"greek_users.txt\""
   ]
  },
  {
   "cell_type": "code",
   "execution_count": null,
   "id": "e14321bb",
   "metadata": {},
   "outputs": [],
   "source": [
    "print(len(greek_users))\n",
    "print(len(dutch_users))"
   ]
  },
  {
   "cell_type": "code",
   "execution_count": null,
   "id": "d27d0bcd",
   "metadata": {},
   "outputs": [],
   "source": [
    "with open('dutch_users.txt','w',encoding='utf=8') as out:\n",
    "    out.write('id\\nname\\tlocation\\n')\n",
    "    for u in dutch_users:\n",
    "        out.write(f'{u[0]}\\t{u[1]}\\t{u[2]}\\n')\n",
    "        \n",
    "with open('greek_users.txt','w',encoding='utf=8') as out:\n",
    "    out.write('id\\nname\\tlocation\\n')\n",
    "    for u in greek_users:\n",
    "        out.write(f'{u[0]}\\t{u[1]}\\t{u[2]}\\n')"
   ]
  }
 ],
 "metadata": {
  "kernelspec": {
   "display_name": "Python 3 (ipykernel)",
   "language": "python",
   "name": "python3"
  },
  "language_info": {
   "codemirror_mode": {
    "name": "ipython",
    "version": 3
   },
   "file_extension": ".py",
   "mimetype": "text/x-python",
   "name": "python",
   "nbconvert_exporter": "python",
   "pygments_lexer": "ipython3",
   "version": "3.7.9"
  }
 },
 "nbformat": 4,
 "nbformat_minor": 5
}
